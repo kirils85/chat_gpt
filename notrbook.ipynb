{
 "cells": [
  {
   "cell_type": "code",
   "execution_count": 22,
   "metadata": {},
   "outputs": [],
   "source": [
    "from langchain.chat_models import ChatOpenAI\n",
    "from langchain.document_loaders import UnstructuredFileLoader\n",
    "from langchain.text_splitter import CharacterTextSplitter\n",
    "from langchain.embeddings import OpenAIEmbeddings, CacheBackedEmbeddings\n",
    "from langchain.vectorstores import Chroma\n",
    "from langchain.storage import LocalFileStore\n",
    "\n",
    "cache_dir = LocalFileStore(\"./.cache/\")\n",
    "\n",
    "\n",
    "\n",
    "splitter = CharacterTextSplitter.from_tiktoken_encoder(\n",
    "    separator=\"\\n\\n\",\n",
    "    chunk_size=600,\n",
    "    chunk_overlap=100\n",
    ")\n",
    "\n",
    "loader = UnstructuredFileLoader(\"./files/Chapter_one.txt\", encoding='utf8')\n",
    "\n",
    "docs = loader.load_and_split(text_splitter=splitter)\n",
    "\n",
    "embeddings = OpenAIEmbeddings()\n",
    "\n",
    "cached_embeddings = CacheBackedEmbeddings.from_bytes_store(embeddings, cache_dir)\n",
    "\n",
    "vectorstore = Chroma.from_documents(docs, cached_embeddings)"
   ]
  },
  {
   "cell_type": "code",
   "execution_count": 21,
   "metadata": {},
   "outputs": [
    {
     "data": {
      "text/plain": [
       "[Document(page_content=\"Winston repaired the sink, taking out the unpleasant knot of hair that was stopping the water running away. He washed his hands and went back to the other room.\\n\\n'Put your hands up!' shouted a voice.\\n\\nA big, handsome boy of nine was pointing a toy gun at him. His small sister, about two years younger, pointed a piece of wood. Both were dressed in the blue, grey and red uniforms of the Spies. Winston put his hands up. The look of hate on the boy's face made him feel that it was not quite a game.\\n\\n'You're a Eurasian spy!' screamed the boy. ’You're a thoughtcriminaUl'U shoot you, I'll vaporize you!'\\n\\nSuddenly they were both running round him, shouting 'Spy! Thoughtcriminal!' The little girl did everything seconds after her older brother did it. It was frightening, like the games of young, dangerous wild animals that will soon be man-eaters. Winston could see that the boy really wanted to hit or kick him, and was\\n\\n9\\n\\nnearly big enough to do so. He was glad that the gun in the boy's hand was only a toy.\\n\\n'They wanted to see the Eurasian prisoners hang. But I'm too busy to take them and Tom's at . . .'\\n\\n'We want to see them hang!' shouted the boy, and then the girl started shouting it too.\\n\\nSome Eurasian prisoners, guilty of war crimes against Oceania, were going to hang slowly in the park that evening. This happened every month or two and was a popular evening's entertainment. Children were often taken to see it.\\n\\nWinston said goodbye to Mrs Parsons and walked towards the door. He heard a loud noise as a bomb fell. About twenty or thirty of them were falling on London each week. Then he felt a terrible pain in the back of his neck. He turned and saw Mrs Parsons trying to take some sharp stones from her son’s hand.\\n\\n'Goldstein!' screamed the boy.\\n\\nBut Winston was most shocked by the look of helpless terror on Mrs Parsons' grey face.\\n\\nChapter 3 The Ministry of Truth\\n\\nWinston pulled the speakwrite towards him and put on his glasses. To the right of the speakwrite there was a small hole, to the left a larger one. In the office wall there was a third hole, larger than the other two.\\n\\nMessages came to Winston's office through the smallest hole. Newspapers came to him through the middle hole. The largest hole was for waste paper; hot air carried that away. These large holes were called 'memory holes', for some reason.\\n\\nToday four messages had come through the smallest hole, onto his desk. The messages were about changes to the Times newspaper. For example, in Big Brother's speech in the Times of\", metadata={'source': './files/Chapter_one.txt'}),\n",
       " Document(page_content=\"Winston kept his back to the telescreen. It was safer that way - they couldn't see your face. He looked out over London, the biggest city in this part of Oceania. The nineteenth-century houses were all falling down. There were holes in the streets where the bombs had fallen. Had it always been like this? He tried to think back to the time when he was a boy, but he could remember nothing.\\n\\nHe stared at the Ministry of Truth, where he worked. It was an enormous white building, three hundred metres high. You could see the white roof, high above the houses, even a kilometre away. From Winston's flat it was just possible to see the three slogans of the Party written in enormous letters on the side of the building:\\n\\nWARIS PEACE\\n\\nFREEDOM IS SLAVERY\\n\\nIGNORANCE IS STRENGTH\\n\\nThe Ministry of Truth was called Minitrue in Newspeak, the new language of Oceania. Minitrue, it was said, had more than three thousand rooms above the ground and a similar number below. The people there worked mainly on news and entertainment. High above the surrounding buildings, Winston could also see the Ministry ofPeace, where they worked on war. It was called Minipax in Newspeak. And the Ministry of Plenty — Miniplenty — which was responsible for the economy. And he could see the Ministry of Love — Miniluv — which was responsible for law and order.\\n\\nThe Ministry of Love was the really frightening one. There were no windows in it. Nobody could get anywhere near it unless they had business there. There were guards with guns in black uniforms even in the streets half a kilometre away.\\n\\nWinston turned round quickly. He smiled. It was a good idea to look happy when you were facing the telescreen. He went to his small kitchen. He had not had lunch in the canteen before he left work, but there was no food there except a piece of dark, hard bread for tomorrow's breakfast. He poured himself a cup of colourless, oily gin and drank it down like medicine. It burned him inside, but he felt more cheerful afterwards.\\n\\nHe went back to the living room and sat down at a small table to the left of the telescreen. It was the only place in the room where the telescreen could not see him. From a drawer in the table he took out a pen and a big diary with beautiful cream paper, which he had bought in an old-fashioned shop in a poor part of the town. Party members like Winston were not allowed to go into ordinary shops, but many of them did. It was the only way to get things like razor blades.\", metadata={'source': './files/Chapter_one.txt'}),\n",
       " Document(page_content=\"Winston Smith lives in a world where everyone is watched every second of the day. It is a world where Big Brother and the Thought Police control the past as well as the present. They decide what you must do and, even more frighteningly, what you must think.\\n\\nWinston is secretly unhappy with this life. He seems to be the only person who is dissatisfied with this cruel world. Here, dishonesty and betrayal are rewarded, but truth and love are punished. Alone in his small one-room apartment,Winston keeps a diary of his thoughts and dreams. This is a dangerous activity. If the diary is ever found, Winston will be punished, possibly killed, by the Thought Police. The Thought Police have a telescreen in every room in every home and in every public place. They also have hidden microphones and there are spies everywhere...\\n\\nLife is dangerous for Winston, but it would be empty and meaningless without his dreams of a better existence. Will his anger with the Party and his desire for a life outside its control lead him to happiness? Is he alone in his fight against the Party? There must, somewhere, be people like him who also dream of freedom and escape from this terrible life? But even if there were others, how would he know that they were not really working for the Thought Police?\\n\\nThe answer to these questions can all be found in George Orwell's famous but very worrying book 1984. Written in 1948,\\n\\nv\\n\\nwhen Europe was in a very weak, uncertain condition after the end ofWorld War II, 1984 was an immediate success. Life in Britain at the end of the war was hard, dull and unexciting. Generally, though, people felt proud because they had helped to win an important war and they were still free. They believed that the problems of cruel governments and weak, powerless people belonged to other countries. The Nazis had just lost control of Germany and other European countries, but there were other countries, like Russia and China, where governments seemed to be cruel and the people did not appear to be free. In 1984, George Orwell skillfully showed readers that dangerous, cruel and powerful governments could happen anywhere — even in Britain.\", metadata={'source': './files/Chapter_one.txt'}),\n",
       " Document(page_content=\"As he opened the door, Winston saw that he had left the diary open on the table. DOWN WITH BIG BROTHER was written in it, in letters you could almost read across the room.\\n\\nBut everything was all right. A small, sad-looking woman was standing outside.\\n\\n'Oh, Comrade Smith,' she said, in a dull little voice, 'do you think you could come across and help me with our kitchen sink? The water isn't running away and ...'\\n\\nIt was Mrs Parsons, his neighbour. She was about thirty but looked much older. Winston followed her into her flat. These repairs happened almost daily. The Victory Mansions flats were old, built in about 1930, and they were falling to pieces. Unless you did the repairs yourself, the Party had to agree to them. It could take two years to get new glass in a window.\\n\\n'Tom isn't home,' Mrs Parsons explained.\\n\\nThe Parsons' flat was bigger than Winston's and unattractive in a different way. Everything was broken. There were sports clothes and sports equipment all over the floor, and dirty dishes on the table. On the walls were the red flags of the Young People's League and the Spies and a full-sized poster of Big Brother. There was the usual smell of old food, but also the smell of old sweat. In another room someone was singing with the marching music that was still coming from the telescreen.\\n\\n'It's the children,' said Mrs Parsons, looking in fear at the door to the other room. 'They haven't been out today and of course . . .' She often stopped without finishing her sentences.\\n\\nIn the kitchen, the sink was full of dirty green water.\\n\\n'Of course if Tom was home ...' Mrs Parsons started.\\n\\nTom Parsons worked with Winston at the Ministry of Truth. He was a fat but active man who was unbelievably stupid and endlessly enthusiastic. He was a follower with no mind of his own - the type that the Party needed even more than they needed the Thought Police.\\n\\nAt thirty-five Tom Parsons had onlyjust been thrown out of the Young People's League, although he had wanted to stay. Before that he had continued in the Spies for a year beyond the official age. At the Ministry he had a job which needed no intelligence, but he worked for the Party every evening, organizing walks and other activities. The smell of his sweat filled every room he was in and stayed there after he had gone.\\n\\nWinston repaired the sink, taking out the unpleasant knot of hair that was stopping the water running away. He washed his hands and went back to the other room.\\n\\n'Put your hands up!' shouted a voice.\", metadata={'source': './files/Chapter_one.txt'})]"
      ]
     },
     "execution_count": 21,
     "metadata": {},
     "output_type": "execute_result"
    }
   ],
   "source": [
    "results = vectorstore.similarity_search(\"where does winston live\")\n",
    "\n",
    "len(results)"
   ]
  },
  {
   "cell_type": "code",
   "execution_count": 12,
   "metadata": {},
   "outputs": [],
   "source": [
    "from langchain.chat_models import ChatOpenAI\n",
    "from langchain.prompts import ChatPromptTemplate\n",
    "\n",
    "chat = ChatOpenAI(temperature=0.1)"
   ]
  },
  {
   "cell_type": "code",
   "execution_count": 13,
   "metadata": {},
   "outputs": [],
   "source": [
    "from langchain.schema import BaseOutputParser\n",
    "\n",
    "\n",
    "class CommaOutputParser(BaseOutputParser):\n",
    "    def parse(self, text):\n",
    "        items = text.strip().split(\",\")\n",
    "        return list(map(str.strip, items))"
   ]
  },
  {
   "cell_type": "code",
   "execution_count": 14,
   "metadata": {},
   "outputs": [],
   "source": [
    "template = ChatPromptTemplate.from_messages(\n",
    "    [\n",
    "        (\n",
    "            \"system\",\n",
    "            \"You are a list generating machine. Everything you are asked will be answered with a comma separated list of max {max_items} in lowercase.Do NOT reply with anything else.\",\n",
    "        ),\n",
    "        (\"human\", \"{question}\"),\n",
    "    ]\n",
    ")"
   ]
  },
  {
   "cell_type": "code",
   "execution_count": 16,
   "metadata": {},
   "outputs": [
    {
     "data": {
      "text/plain": [
       "['pikachu', 'charmander', 'bulbasaur', 'squirtle', 'jigglypuff']"
      ]
     },
     "execution_count": 16,
     "metadata": {},
     "output_type": "execute_result"
    }
   ],
   "source": [
    "chain = template | chat | CommaOutputParser()\n",
    "\n",
    "chain.invoke({\"max_items\": 5, \"question\": \"What are the pokemons?\"})"
   ]
  },
  {
   "cell_type": "code",
   "execution_count": 17,
   "metadata": {},
   "outputs": [],
   "source": [
    "from langchain.chat_models import ChatOpenAI\n",
    "from langchain.prompts import ChatPromptTemplate\n",
    "from langchain.callbacks import StreamingStdOutCallbackHandler\n",
    "\n",
    "chat = ChatOpenAI(\n",
    "    temperature=0.1,\n",
    "    streaming=True,\n",
    "    callbacks=[\n",
    "        StreamingStdOutCallbackHandler(),\n",
    "    ],\n",
    ")\n",
    "\n",
    "chef_prompt = ChatPromptTemplate.from_messages(\n",
    "    [\n",
    "        (\n",
    "            \"system\",\n",
    "            \"\",\n",
    "        ),\n",
    "        (\"human\", \"I want to specialized in explaining {cuisine} Haikus.\"),\n",
    "    ]\n",
    ")\n",
    "\n",
    "chef_chain = chef_prompt | chat"
   ]
  },
  {
   "cell_type": "code",
   "execution_count": 18,
   "metadata": {},
   "outputs": [
    {
     "name": "stdout",
     "output_type": "stream",
     "text": [
      "That's a unique and interesting specialization! Python haikus can be a fun way to combine programming and poetry. Haikus typically follow a 5-7-5 syllable pattern, so you can create haikus that capture the essence of Python programming concepts in a concise and creative way. Feel free to share any Python haikus you've written or ask for assistance in crafting them!Thank you! Here's a Python haiku for you:\n",
      "\n",
      "Indentation rules,\n",
      "Pythonic code flows with ease,\n",
      "Guido's gift to us."
     ]
    },
    {
     "data": {
      "text/plain": [
       "AIMessageChunk(content=\"Thank you! Here's a Python haiku for you:\\n\\nIndentation rules,\\nPythonic code flows with ease,\\nGuido's gift to us.\")"
      ]
     },
     "execution_count": 18,
     "metadata": {},
     "output_type": "execute_result"
    }
   ],
   "source": [
    "veg_chef_prompt = ChatPromptTemplate.from_messages(\n",
    "    [\n",
    "        (\n",
    "            \"system\",\n",
    "            \"You are a specialized in writing Haikus about programming languages.\",\n",
    "        ),\n",
    "        (\"human\", \"{recipe}\"),\n",
    "    ]\n",
    ")\n",
    "\n",
    "\n",
    "veg_chain = veg_chef_prompt | chat\n",
    "\n",
    "\n",
    "final_chain = {\"recipe\": chef_chain} | veg_chain\n",
    "\n",
    "final_chain.invoke({\"cuisine\": \"Python\"})"
   ]
  },
  {
   "cell_type": "code",
   "execution_count": 1,
   "metadata": {},
   "outputs": [
    {
     "name": "stdout",
     "output_type": "stream",
     "text": [
      "AI:\n",
      "        I know this:\n",
      "        Directors : Anthony Russo, Joe Russo\n",
      "        Stars : Robert Downey Jr., Chris Hemsworth, Mark Ruffalo\n",
      "        Storyline: As the Avengers and their allies have continued to protect the world from threats too large for any one hero to handle, a new danger has emerged from the cosmic shadows: Thanos. A despot of intergalactic infamy, his goal is to collect all six Infinity Stones, artifacts of unimaginable power, and use them to inflict his twisted will on all of reality. Everything the Avengers have fought for has led up to this moment - the fate of Earth and existence itself has never been more uncertain\n",
      "        Genres : Action, Adventure, Sci-Fi"
     ]
    },
    {
     "data": {
      "text/plain": [
       "AIMessageChunk(content='AI:\\n        I know this:\\n        Directors : Anthony Russo, Joe Russo\\n        Stars : Robert Downey Jr., Chris Hemsworth, Mark Ruffalo\\n        Storyline: As the Avengers and their allies have continued to protect the world from threats too large for any one hero to handle, a new danger has emerged from the cosmic shadows: Thanos. A despot of intergalactic infamy, his goal is to collect all six Infinity Stones, artifacts of unimaginable power, and use them to inflict his twisted will on all of reality. Everything the Avengers have fought for has led up to this moment - the fate of Earth and existence itself has never been more uncertain\\n        Genres : Action, Adventure, Sci-Fi')"
      ]
     },
     "execution_count": 1,
     "metadata": {},
     "output_type": "execute_result"
    }
   ],
   "source": [
    "from langchain.chat_models import ChatOpenAI\n",
    "from langchain.prompts.few_shot import FewShotPromptTemplate\n",
    "from langchain.callbacks import StreamingStdOutCallbackHandler\n",
    "from langchain.prompts.prompt import PromptTemplate\n",
    "\n",
    "chat = ChatOpenAI(\n",
    "    temperature=0.1,\n",
    "    streaming=True,\n",
    "    callbacks=[\n",
    "        StreamingStdOutCallbackHandler(),\n",
    "    ],\n",
    ")\n",
    "\n",
    "\n",
    "examples = [\n",
    "    {\n",
    "        \"question\": \"do you know about the movie Dune: Part Two?\",\n",
    "        \"answer\": \"\"\"\n",
    "        Here is what I know:\n",
    "        Director : Denis Villeneuve\n",
    "        Stars : Timothée Chalamet, Zendaya, Rebecca Ferguson\n",
    "        Storyline: Paul Atreides unites with Chani and the Fremen while on a warpath of revenge against the conspirators who destroyed his family. Facing a choice between the love of his life and the fate of the known universe, he endeavors to prevent a terrible future only he can foresee\n",
    "        Genres: Action, Adventure, Drama, Sci-Fi\n",
    "        \"\"\",\n",
    "    },\n",
    "    {\n",
    "        \"question\": \"do you know about the movie Original title: The Dark Knight?\",\n",
    "        \"answer\": \"\"\"\n",
    "        I know this:\n",
    "        Director : Christopher Nolan\n",
    "        Stars : Christian Bale, Heath Ledger, Aaron Eckhart\n",
    "        Storyline: Set within a year after the events of Batman Begins (2005), Batman, Lieutenant James Gordon, and new District Attorney Harvey Dent successfully begin to round up the criminals that plague Gotham City, until a mysterious and sadistic criminal mastermind known only as \"The Joker\" appears in Gotham, creating a new wave of chaos. Batman's struggle against The Joker becomes deeply personal, forcing him to \"confront everything he believes\" and improve his technology to stop him. A love triangle develops between Bruce Wayne, Dent, and Rachel Dawes\n",
    "        Genres : Action, Crime, Drama, Thriller\n",
    "        \"\"\",\n",
    "    },\n",
    "    {\n",
    "        \"question\": \"do you know about the movie Original title: Inception?\",\n",
    "        \"answer\": \"\"\"\n",
    "        I know this:\n",
    "        Director : Christopher Nolan\n",
    "        Stars : Leonardo DiCaprio, Joseph Gordon-Levitt, Elliot Page\n",
    "        Storyline: Dom Cobb is a skilled thief, the absolute best in the dangerous art of extraction, stealing valuable secrets from deep within the subconscious during the dream state, when the mind is at its most vulnerable. Cobb's rare ability has made him a coveted player in this treacherous new world of corporate espionage, but it has also made him an international fugitive and cost him everything he has ever loved. Now Cobb is being offered a chance at redemption. One last job could give him his life back but only if he can accomplish the impossible, inception. Instead of the perfect heist, Cobb and his team of specialists have to pull off the reverse: their task is not to steal an idea, but to plant one. If they succeed, it could be the perfect crime. But no amount of careful planning or expertise can prepare the team for the dangerous enemy that seems to predict their every move. An enemy that only Cobb could have seen coming\n",
    "        Genres : Action, Adventure, Sci-Fi, Thriller\n",
    "        \"\"\",\n",
    "    },\n",
    "]\n",
    "\n",
    "\n",
    "example_prompt = PromptTemplate.from_template(\"Human: {question}\\nAI:{answer}\")\n",
    "\n",
    "prompt = FewShotPromptTemplate(\n",
    "    example_prompt=example_prompt,\n",
    "    examples=examples,\n",
    "    suffix=\"Human: do you know about the movie {movie}?\",\n",
    "    input_variables=[\"movie\"],\n",
    ")\n",
    "\n",
    "chain = prompt | chat\n",
    "\n",
    "chain.invoke({\"movie\": \"Original title: Avengers: Infinity War\"})"
   ]
  }
 ],
 "metadata": {
  "kernelspec": {
   "display_name": "env",
   "language": "python",
   "name": "python3"
  },
  "language_info": {
   "codemirror_mode": {
    "name": "ipython",
    "version": 3
   },
   "file_extension": ".py",
   "mimetype": "text/x-python",
   "name": "python",
   "nbconvert_exporter": "python",
   "pygments_lexer": "ipython3",
   "version": "3.11.8"
  }
 },
 "nbformat": 4,
 "nbformat_minor": 2
}
